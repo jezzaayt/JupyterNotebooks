{
 "cells": [
  {
   "cell_type": "markdown",
   "metadata": {},
   "source": [
    "# R Basics\n",
    "These basic tutorials were made by me (Jeremy Aytoun) as part of volunteer package to Institute of Coding at University of Sunderland. As they deliver same sort of basics of data science in Python. I  simply converted it over to R. "
   ]
  },
  {
   "cell_type": "code",
   "execution_count": 3,
   "metadata": {},
   "outputs": [
    {
     "name": "stdout",
     "output_type": "stream",
     "text": [
      "[1] \"Hello World\"\n"
     ]
    }
   ],
   "source": [
    "print(\"Hello World\")"
   ]
  },
  {
   "cell_type": "code",
   "execution_count": 4,
   "metadata": {},
   "outputs": [
    {
     "name": "stdout",
     "output_type": "stream",
     "text": [
      "[1] 4\n"
     ]
    }
   ],
   "source": [
    "print(2+2)"
   ]
  },
  {
   "cell_type": "code",
   "execution_count": 15,
   "metadata": {},
   "outputs": [],
   "source": [
    "animals <- c(\"Giant panda\", \"cat\", \"lion\", \"Dog\")"
   ]
  },
  {
   "cell_type": "code",
   "execution_count": 16,
   "metadata": {},
   "outputs": [
    {
     "data": {
      "text/html": [
       "'Giant panda'"
      ],
      "text/latex": [
       "'Giant panda'"
      ],
      "text/markdown": [
       "'Giant panda'"
      ],
      "text/plain": [
       "[1] \"Giant panda\""
      ]
     },
     "metadata": {},
     "output_type": "display_data"
    },
    {
     "data": {
      "text/html": [
       "'cat'"
      ],
      "text/latex": [
       "'cat'"
      ],
      "text/markdown": [
       "'cat'"
      ],
      "text/plain": [
       "[1] \"cat\""
      ]
     },
     "metadata": {},
     "output_type": "display_data"
    },
    {
     "data": {
      "text/html": [
       "'lion'"
      ],
      "text/latex": [
       "'lion'"
      ],
      "text/markdown": [
       "'lion'"
      ],
      "text/plain": [
       "[1] \"lion\""
      ]
     },
     "metadata": {},
     "output_type": "display_data"
    },
    {
     "data": {
      "text/html": [
       "'Dog'"
      ],
      "text/latex": [
       "'Dog'"
      ],
      "text/markdown": [
       "'Dog'"
      ],
      "text/plain": [
       "[1] \"Dog\""
      ]
     },
     "metadata": {},
     "output_type": "display_data"
    }
   ],
   "source": [
    "animals[1]\n",
    "animals[2]\n",
    "animals[3]\n",
    "animals[4]"
   ]
  },
  {
   "cell_type": "markdown",
   "metadata": {},
   "source": [
    "#NA Operation due to out of bounds of the list"
   ]
  },
  {
   "cell_type": "code",
   "execution_count": 17,
   "metadata": {},
   "outputs": [
    {
     "data": {
      "text/html": [
       "NA"
      ],
      "text/latex": [
       "NA"
      ],
      "text/markdown": [
       "NA"
      ],
      "text/plain": [
       "[1] NA"
      ]
     },
     "metadata": {},
     "output_type": "display_data"
    }
   ],
   "source": [
    "animals[5]"
   ]
  },
  {
   "cell_type": "markdown",
   "metadata": {},
   "source": [
    "#Shows the length of the list"
   ]
  },
  {
   "cell_type": "code",
   "execution_count": 18,
   "metadata": {},
   "outputs": [
    {
     "data": {
      "text/html": [
       "4"
      ],
      "text/latex": [
       "4"
      ],
      "text/markdown": [
       "4"
      ],
      "text/plain": [
       "[1] 4"
      ]
     },
     "metadata": {},
     "output_type": "display_data"
    }
   ],
   "source": [
    "length(animals)"
   ]
  },
  {
   "cell_type": "markdown",
   "metadata": {},
   "source": [
    "# for loop\n"
   ]
  },
  {
   "cell_type": "code",
   "execution_count": 19,
   "metadata": {},
   "outputs": [
    {
     "name": "stdout",
     "output_type": "stream",
     "text": [
      "[1] \"Giant panda\"\n",
      "[1] \"cat\"\n",
      "[1] \"lion\"\n",
      "[1] \"Dog\"\n"
     ]
    }
   ],
   "source": [
    "for (animal in animals){\n",
    "    print(animal)\n",
    "}"
   ]
  },
  {
   "cell_type": "code",
   "execution_count": 20,
   "metadata": {},
   "outputs": [
    {
     "name": "stdout",
     "output_type": "stream",
     "text": [
      "[1] \"Giant panda\" \"cat\"         \"lion\"        \"Dog\"        \n"
     ]
    }
   ],
   "source": [
    "print(animals)"
   ]
  },
  {
   "cell_type": "markdown",
   "metadata": {},
   "source": [
    "To append use the Append function, apply the list\n",
    "#Enter the value then position where you wish to add the value"
   ]
  },
  {
   "cell_type": "code",
   "execution_count": 21,
   "metadata": {},
   "outputs": [
    {
     "data": {
      "text/html": [
       "<ol class=list-inline>\n",
       "\t<li>'Giant panda'</li>\n",
       "\t<li>'cat'</li>\n",
       "\t<li>'lion'</li>\n",
       "\t<li>'parrot'</li>\n",
       "\t<li>'Dog'</li>\n",
       "</ol>\n"
      ],
      "text/latex": [
       "\\begin{enumerate*}\n",
       "\\item 'Giant panda'\n",
       "\\item 'cat'\n",
       "\\item 'lion'\n",
       "\\item 'parrot'\n",
       "\\item 'Dog'\n",
       "\\end{enumerate*}\n"
      ],
      "text/markdown": [
       "1. 'Giant panda'\n",
       "2. 'cat'\n",
       "3. 'lion'\n",
       "4. 'parrot'\n",
       "5. 'Dog'\n",
       "\n",
       "\n"
      ],
      "text/plain": [
       "[1] \"Giant panda\" \"cat\"         \"lion\"        \"parrot\"      \"Dog\"        "
      ]
     },
     "metadata": {},
     "output_type": "display_data"
    }
   ],
   "source": [
    "animals <- append(animals, \"parrot\", 3)\n",
    "animals"
   ]
  },
  {
   "cell_type": "code",
   "execution_count": 22,
   "metadata": {},
   "outputs": [
    {
     "data": {
      "text/html": [
       "<ol class=list-inline>\n",
       "\t<li>'Giant panda'</li>\n",
       "\t<li>'lion'</li>\n",
       "\t<li>'parrot'</li>\n",
       "\t<li>'Dog'</li>\n",
       "</ol>\n"
      ],
      "text/latex": [
       "\\begin{enumerate*}\n",
       "\\item 'Giant panda'\n",
       "\\item 'lion'\n",
       "\\item 'parrot'\n",
       "\\item 'Dog'\n",
       "\\end{enumerate*}\n"
      ],
      "text/markdown": [
       "1. 'Giant panda'\n",
       "2. 'lion'\n",
       "3. 'parrot'\n",
       "4. 'Dog'\n",
       "\n",
       "\n"
      ],
      "text/plain": [
       "[1] \"Giant panda\" \"lion\"        \"parrot\"      \"Dog\"        "
      ]
     },
     "metadata": {},
     "output_type": "display_data"
    }
   ],
   "source": [
    "animals <- animals[-2]\n",
    "animals"
   ]
  },
  {
   "cell_type": "code",
   "execution_count": 24,
   "metadata": {},
   "outputs": [
    {
     "data": {
      "text/html": [
       "<ol class=list-inline>\n",
       "\t<li>'Dog'</li>\n",
       "\t<li>'Giant panda'</li>\n",
       "\t<li>'lion'</li>\n",
       "\t<li>'parrot'</li>\n",
       "</ol>\n"
      ],
      "text/latex": [
       "\\begin{enumerate*}\n",
       "\\item 'Dog'\n",
       "\\item 'Giant panda'\n",
       "\\item 'lion'\n",
       "\\item 'parrot'\n",
       "\\end{enumerate*}\n"
      ],
      "text/markdown": [
       "1. 'Dog'\n",
       "2. 'Giant panda'\n",
       "3. 'lion'\n",
       "4. 'parrot'\n",
       "\n",
       "\n"
      ],
      "text/plain": [
       "[1] \"Dog\"         \"Giant panda\" \"lion\"        \"parrot\"     "
      ]
     },
     "metadata": {},
     "output_type": "display_data"
    },
    {
     "data": {
      "text/html": [
       "'Giant panda'"
      ],
      "text/latex": [
       "'Giant panda'"
      ],
      "text/markdown": [
       "'Giant panda'"
      ],
      "text/plain": [
       "[1] \"Giant panda\""
      ]
     },
     "metadata": {},
     "output_type": "display_data"
    }
   ],
   "source": [
    "#sorting \n",
    "animals <- sort(animals,decreasing = FALSE)\n",
    "animals\n",
    "animals[2]"
   ]
  },
  {
   "cell_type": "markdown",
   "metadata": {},
   "source": [
    "indexing"
   ]
  },
  {
   "cell_type": "code",
   "execution_count": 25,
   "metadata": {},
   "outputs": [
    {
     "data": {
      "text/html": [
       "2"
      ],
      "text/latex": [
       "2"
      ],
      "text/markdown": [
       "2"
      ],
      "text/plain": [
       "[1] 2"
      ]
     },
     "metadata": {},
     "output_type": "display_data"
    },
    {
     "data": {
      "text/html": [
       "&lt;NA&gt;"
      ],
      "text/latex": [
       "<NA>"
      ],
      "text/markdown": [
       "&lt;NA&gt;"
      ],
      "text/plain": [
       "[1] NA"
      ]
     },
     "metadata": {},
     "output_type": "display_data"
    }
   ],
   "source": [
    "numbers <- c(1,2,3,4,5,6,7,8,9,10)\n",
    "numbers[2]\n",
    "numbers[11]"
   ]
  },
  {
   "cell_type": "markdown",
   "metadata": {},
   "source": [
    "number of rows in a data frame"
   ]
  },
  {
   "cell_type": "code",
   "execution_count": 26,
   "metadata": {},
   "outputs": [
    {
     "data": {
      "text/html": [
       "4"
      ],
      "text/latex": [
       "4"
      ],
      "text/markdown": [
       "4"
      ],
      "text/plain": [
       "[1] 4"
      ]
     },
     "metadata": {},
     "output_type": "display_data"
    }
   ],
   "source": [
    "NROW(animals)"
   ]
  },
  {
   "cell_type": "markdown",
   "metadata": {},
   "source": [
    "# slicing / sub setting"
   ]
  },
  {
   "cell_type": "code",
   "execution_count": 27,
   "metadata": {},
   "outputs": [
    {
     "data": {
      "text/html": [
       "<ol class=list-inline>\n",
       "\t<li>2</li>\n",
       "\t<li>3</li>\n",
       "\t<li>4</li>\n",
       "\t<li>5</li>\n",
       "\t<li>6</li>\n",
       "\t<li>7</li>\n",
       "\t<li>8</li>\n",
       "\t<li>9</li>\n",
       "\t<li>10</li>\n",
       "</ol>\n"
      ],
      "text/latex": [
       "\\begin{enumerate*}\n",
       "\\item 2\n",
       "\\item 3\n",
       "\\item 4\n",
       "\\item 5\n",
       "\\item 6\n",
       "\\item 7\n",
       "\\item 8\n",
       "\\item 9\n",
       "\\item 10\n",
       "\\end{enumerate*}\n"
      ],
      "text/markdown": [
       "1. 2\n",
       "2. 3\n",
       "3. 4\n",
       "4. 5\n",
       "5. 6\n",
       "6. 7\n",
       "7. 8\n",
       "8. 9\n",
       "9. 10\n",
       "\n",
       "\n"
      ],
      "text/plain": [
       "[1]  2  3  4  5  6  7  8  9 10"
      ]
     },
     "metadata": {},
     "output_type": "display_data"
    }
   ],
   "source": [
    "numbers[-1] # all but first"
   ]
  },
  {
   "cell_type": "code",
   "execution_count": 28,
   "metadata": {},
   "outputs": [
    {
     "data": {
      "text/html": [
       "<ol class=list-inline>\n",
       "\t<li>1</li>\n",
       "\t<li>2</li>\n",
       "\t<li>3</li>\n",
       "\t<li>4</li>\n",
       "\t<li>5</li>\n",
       "</ol>\n"
      ],
      "text/latex": [
       "\\begin{enumerate*}\n",
       "\\item 1\n",
       "\\item 2\n",
       "\\item 3\n",
       "\\item 4\n",
       "\\item 5\n",
       "\\end{enumerate*}\n"
      ],
      "text/markdown": [
       "1. 1\n",
       "2. 2\n",
       "3. 3\n",
       "4. 4\n",
       "5. 5\n",
       "\n",
       "\n"
      ],
      "text/plain": [
       "[1] 1 2 3 4 5"
      ]
     },
     "metadata": {},
     "output_type": "display_data"
    }
   ],
   "source": [
    "numbers[1:5] # first five numbers"
   ]
  },
  {
   "cell_type": "code",
   "execution_count": 29,
   "metadata": {},
   "outputs": [
    {
     "data": {
      "text/html": [
       "<ol class=list-inline>\n",
       "\t<li>1</li>\n",
       "\t<li>2</li>\n",
       "\t<li>3</li>\n",
       "\t<li>4</li>\n",
       "\t<li>5</li>\n",
       "\t<li>6</li>\n",
       "\t<li>7</li>\n",
       "\t<li>8</li>\n",
       "\t<li>9</li>\n",
       "\t<li>10</li>\n",
       "</ol>\n"
      ],
      "text/latex": [
       "\\begin{enumerate*}\n",
       "\\item 1\n",
       "\\item 2\n",
       "\\item 3\n",
       "\\item 4\n",
       "\\item 5\n",
       "\\item 6\n",
       "\\item 7\n",
       "\\item 8\n",
       "\\item 9\n",
       "\\item 10\n",
       "\\end{enumerate*}\n"
      ],
      "text/markdown": [
       "1. 1\n",
       "2. 2\n",
       "3. 3\n",
       "4. 4\n",
       "5. 5\n",
       "6. 6\n",
       "7. 7\n",
       "8. 8\n",
       "9. 9\n",
       "10. 10\n",
       "\n",
       "\n"
      ],
      "text/plain": [
       " [1]  1  2  3  4  5  6  7  8  9 10"
      ]
     },
     "metadata": {},
     "output_type": "display_data"
    }
   ],
   "source": [
    "numbers[]"
   ]
  },
  {
   "cell_type": "markdown",
   "metadata": {},
   "source": [
    "# R Basics 2\n",
    "reading a txt"
   ]
  },
  {
   "cell_type": "code",
   "execution_count": 30,
   "metadata": {},
   "outputs": [],
   "source": [
    "Australian_animals <- read.delim(\"data/AustralianAnimals.txt\", TRUE)"
   ]
  },
  {
   "cell_type": "code",
   "execution_count": 31,
   "metadata": {},
   "outputs": [
    {
     "data": {
      "text/html": [
       "<table>\n",
       "<thead><tr><th scope=col>Kangaroo..marsupial</th></tr></thead>\n",
       "<tbody>\n",
       "\t<tr><td>Koala, marsupial          </td></tr>\n",
       "\t<tr><td>Wallaby, marsupial        </td></tr>\n",
       "\t<tr><td>Echidna, monotreme        </td></tr>\n",
       "\t<tr><td>Dingo, mammal             </td></tr>\n",
       "\t<tr><td>Tasmanian devil, marsupial</td></tr>\n",
       "\t<tr><td>Platypus, monotreme       </td></tr>\n",
       "\t<tr><td>Tasmanian devil, marsupial</td></tr>\n",
       "</tbody>\n",
       "</table>\n"
      ],
      "text/latex": [
       "\\begin{tabular}{r|l}\n",
       " Kangaroo..marsupial\\\\\n",
       "\\hline\n",
       "\t Koala, marsupial          \\\\\n",
       "\t Wallaby, marsupial        \\\\\n",
       "\t Echidna, monotreme        \\\\\n",
       "\t Dingo, mammal             \\\\\n",
       "\t Tasmanian devil, marsupial\\\\\n",
       "\t Platypus, monotreme       \\\\\n",
       "\t Tasmanian devil, marsupial\\\\\n",
       "\\end{tabular}\n"
      ],
      "text/markdown": [
       "\n",
       "| Kangaroo..marsupial |\n",
       "|---|\n",
       "| Koala, marsupial           |\n",
       "| Wallaby, marsupial         |\n",
       "| Echidna, monotreme         |\n",
       "| Dingo, mammal              |\n",
       "| Tasmanian devil, marsupial |\n",
       "| Platypus, monotreme        |\n",
       "| Tasmanian devil, marsupial |\n",
       "\n"
      ],
      "text/plain": [
       "  Kangaroo..marsupial       \n",
       "1 Koala, marsupial          \n",
       "2 Wallaby, marsupial        \n",
       "3 Echidna, monotreme        \n",
       "4 Dingo, mammal             \n",
       "5 Tasmanian devil, marsupial\n",
       "6 Platypus, monotreme       \n",
       "7 Tasmanian devil, marsupial"
      ]
     },
     "metadata": {},
     "output_type": "display_data"
    }
   ],
   "source": [
    "Australian_animals"
   ]
  },
  {
   "cell_type": "code",
   "execution_count": 33,
   "metadata": {},
   "outputs": [],
   "source": [
    "aa <- Australian_animals"
   ]
  },
  {
   "cell_type": "markdown",
   "metadata": {},
   "source": [
    "Can use either aa[] or aa to call the data frame"
   ]
  },
  {
   "cell_type": "code",
   "execution_count": 36,
   "metadata": {},
   "outputs": [
    {
     "data": {
      "text/html": [
       "<table>\n",
       "<thead><tr><th scope=col>Kangaroo..marsupial</th></tr></thead>\n",
       "<tbody>\n",
       "\t<tr><td>Koala, marsupial          </td></tr>\n",
       "\t<tr><td>Wallaby, marsupial        </td></tr>\n",
       "\t<tr><td>Echidna, monotreme        </td></tr>\n",
       "\t<tr><td>Dingo, mammal             </td></tr>\n",
       "\t<tr><td>Tasmanian devil, marsupial</td></tr>\n",
       "\t<tr><td>Platypus, monotreme       </td></tr>\n",
       "\t<tr><td>Tasmanian devil, marsupial</td></tr>\n",
       "</tbody>\n",
       "</table>\n"
      ],
      "text/latex": [
       "\\begin{tabular}{r|l}\n",
       " Kangaroo..marsupial\\\\\n",
       "\\hline\n",
       "\t Koala, marsupial          \\\\\n",
       "\t Wallaby, marsupial        \\\\\n",
       "\t Echidna, monotreme        \\\\\n",
       "\t Dingo, mammal             \\\\\n",
       "\t Tasmanian devil, marsupial\\\\\n",
       "\t Platypus, monotreme       \\\\\n",
       "\t Tasmanian devil, marsupial\\\\\n",
       "\\end{tabular}\n"
      ],
      "text/markdown": [
       "\n",
       "| Kangaroo..marsupial |\n",
       "|---|\n",
       "| Koala, marsupial           |\n",
       "| Wallaby, marsupial         |\n",
       "| Echidna, monotreme         |\n",
       "| Dingo, mammal              |\n",
       "| Tasmanian devil, marsupial |\n",
       "| Platypus, monotreme        |\n",
       "| Tasmanian devil, marsupial |\n",
       "\n"
      ],
      "text/plain": [
       "  Kangaroo..marsupial       \n",
       "1 Koala, marsupial          \n",
       "2 Wallaby, marsupial        \n",
       "3 Echidna, monotreme        \n",
       "4 Dingo, mammal             \n",
       "5 Tasmanian devil, marsupial\n",
       "6 Platypus, monotreme       \n",
       "7 Tasmanian devil, marsupial"
      ]
     },
     "metadata": {},
     "output_type": "display_data"
    }
   ],
   "source": [
    "aa[]"
   ]
  },
  {
   "cell_type": "code",
   "execution_count": 37,
   "metadata": {},
   "outputs": [
    {
     "data": {
      "text/html": [
       "<table>\n",
       "<thead><tr><th scope=col>Kangaroo..marsupial</th></tr></thead>\n",
       "<tbody>\n",
       "\t<tr><td>Koala, marsupial          </td></tr>\n",
       "\t<tr><td>Wallaby, marsupial        </td></tr>\n",
       "\t<tr><td>Echidna, monotreme        </td></tr>\n",
       "\t<tr><td>Dingo, mammal             </td></tr>\n",
       "\t<tr><td>Tasmanian devil, marsupial</td></tr>\n",
       "\t<tr><td>Platypus, monotreme       </td></tr>\n",
       "\t<tr><td>Tasmanian devil, marsupial</td></tr>\n",
       "</tbody>\n",
       "</table>\n"
      ],
      "text/latex": [
       "\\begin{tabular}{r|l}\n",
       " Kangaroo..marsupial\\\\\n",
       "\\hline\n",
       "\t Koala, marsupial          \\\\\n",
       "\t Wallaby, marsupial        \\\\\n",
       "\t Echidna, monotreme        \\\\\n",
       "\t Dingo, mammal             \\\\\n",
       "\t Tasmanian devil, marsupial\\\\\n",
       "\t Platypus, monotreme       \\\\\n",
       "\t Tasmanian devil, marsupial\\\\\n",
       "\\end{tabular}\n"
      ],
      "text/markdown": [
       "\n",
       "| Kangaroo..marsupial |\n",
       "|---|\n",
       "| Koala, marsupial           |\n",
       "| Wallaby, marsupial         |\n",
       "| Echidna, monotreme         |\n",
       "| Dingo, mammal              |\n",
       "| Tasmanian devil, marsupial |\n",
       "| Platypus, monotreme        |\n",
       "| Tasmanian devil, marsupial |\n",
       "\n"
      ],
      "text/plain": [
       "  Kangaroo..marsupial       \n",
       "1 Koala, marsupial          \n",
       "2 Wallaby, marsupial        \n",
       "3 Echidna, monotreme        \n",
       "4 Dingo, mammal             \n",
       "5 Tasmanian devil, marsupial\n",
       "6 Platypus, monotreme       \n",
       "7 Tasmanian devil, marsupial"
      ]
     },
     "metadata": {},
     "output_type": "display_data"
    }
   ],
   "source": [
    "aa"
   ]
  },
  {
   "cell_type": "markdown",
   "metadata": {},
   "source": [
    "# Select by row or rows then column"
   ]
  },
  {
   "cell_type": "code",
   "execution_count": 38,
   "metadata": {},
   "outputs": [
    {
     "data": {
      "text/html": [
       "Koala, marsupial\n",
       "<details>\n",
       "\t<summary style=display:list-item;cursor:pointer>\n",
       "\t\t<strong>Levels</strong>:\n",
       "\t</summary>\n",
       "\t<ol class=list-inline>\n",
       "\t\t<li>'Dingo, mammal'</li>\n",
       "\t\t<li>'Echidna, monotreme'</li>\n",
       "\t\t<li>'Koala, marsupial'</li>\n",
       "\t\t<li>'Platypus, monotreme'</li>\n",
       "\t\t<li>'Tasmanian devil, marsupial'</li>\n",
       "\t\t<li>'Wallaby, marsupial'</li>\n",
       "\t</ol>\n",
       "</details>"
      ],
      "text/latex": [
       "Koala, marsupial\n",
       "\\emph{Levels}: \\begin{enumerate*}\n",
       "\\item 'Dingo, mammal'\n",
       "\\item 'Echidna, monotreme'\n",
       "\\item 'Koala, marsupial'\n",
       "\\item 'Platypus, monotreme'\n",
       "\\item 'Tasmanian devil, marsupial'\n",
       "\\item 'Wallaby, marsupial'\n",
       "\\end{enumerate*}\n"
      ],
      "text/markdown": [
       "Koala, marsupial\n",
       "**Levels**: 1. 'Dingo, mammal'\n",
       "2. 'Echidna, monotreme'\n",
       "3. 'Koala, marsupial'\n",
       "4. 'Platypus, monotreme'\n",
       "5. 'Tasmanian devil, marsupial'\n",
       "6. 'Wallaby, marsupial'\n",
       "\n",
       "\n"
      ],
      "text/plain": [
       "[1] Koala, marsupial\n",
       "6 Levels: Dingo, mammal Echidna, monotreme ... Wallaby, marsupial"
      ]
     },
     "metadata": {},
     "output_type": "display_data"
    },
    {
     "data": {
      "text/html": [
       "Tasmanian devil, marsupial\n",
       "<details>\n",
       "\t<summary style=display:list-item;cursor:pointer>\n",
       "\t\t<strong>Levels</strong>:\n",
       "\t</summary>\n",
       "\t<ol class=list-inline>\n",
       "\t\t<li>'Dingo, mammal'</li>\n",
       "\t\t<li>'Echidna, monotreme'</li>\n",
       "\t\t<li>'Koala, marsupial'</li>\n",
       "\t\t<li>'Platypus, monotreme'</li>\n",
       "\t\t<li>'Tasmanian devil, marsupial'</li>\n",
       "\t\t<li>'Wallaby, marsupial'</li>\n",
       "\t</ol>\n",
       "</details>"
      ],
      "text/latex": [
       "Tasmanian devil, marsupial\n",
       "\\emph{Levels}: \\begin{enumerate*}\n",
       "\\item 'Dingo, mammal'\n",
       "\\item 'Echidna, monotreme'\n",
       "\\item 'Koala, marsupial'\n",
       "\\item 'Platypus, monotreme'\n",
       "\\item 'Tasmanian devil, marsupial'\n",
       "\\item 'Wallaby, marsupial'\n",
       "\\end{enumerate*}\n"
      ],
      "text/markdown": [
       "Tasmanian devil, marsupial\n",
       "**Levels**: 1. 'Dingo, mammal'\n",
       "2. 'Echidna, monotreme'\n",
       "3. 'Koala, marsupial'\n",
       "4. 'Platypus, monotreme'\n",
       "5. 'Tasmanian devil, marsupial'\n",
       "6. 'Wallaby, marsupial'\n",
       "\n",
       "\n"
      ],
      "text/plain": [
       "[1] Tasmanian devil, marsupial\n",
       "6 Levels: Dingo, mammal Echidna, monotreme ... Wallaby, marsupial"
      ]
     },
     "metadata": {},
     "output_type": "display_data"
    },
    {
     "data": {
      "text/html": [
       "Platypus, monotreme\n",
       "<details>\n",
       "\t<summary style=display:list-item;cursor:pointer>\n",
       "\t\t<strong>Levels</strong>:\n",
       "\t</summary>\n",
       "\t<ol class=list-inline>\n",
       "\t\t<li>'Dingo, mammal'</li>\n",
       "\t\t<li>'Echidna, monotreme'</li>\n",
       "\t\t<li>'Koala, marsupial'</li>\n",
       "\t\t<li>'Platypus, monotreme'</li>\n",
       "\t\t<li>'Tasmanian devil, marsupial'</li>\n",
       "\t\t<li>'Wallaby, marsupial'</li>\n",
       "\t</ol>\n",
       "</details>"
      ],
      "text/latex": [
       "Platypus, monotreme\n",
       "\\emph{Levels}: \\begin{enumerate*}\n",
       "\\item 'Dingo, mammal'\n",
       "\\item 'Echidna, monotreme'\n",
       "\\item 'Koala, marsupial'\n",
       "\\item 'Platypus, monotreme'\n",
       "\\item 'Tasmanian devil, marsupial'\n",
       "\\item 'Wallaby, marsupial'\n",
       "\\end{enumerate*}\n"
      ],
      "text/markdown": [
       "Platypus, monotreme\n",
       "**Levels**: 1. 'Dingo, mammal'\n",
       "2. 'Echidna, monotreme'\n",
       "3. 'Koala, marsupial'\n",
       "4. 'Platypus, monotreme'\n",
       "5. 'Tasmanian devil, marsupial'\n",
       "6. 'Wallaby, marsupial'\n",
       "\n",
       "\n"
      ],
      "text/plain": [
       "[1] Platypus, monotreme\n",
       "6 Levels: Dingo, mammal Echidna, monotreme ... Wallaby, marsupial"
      ]
     },
     "metadata": {},
     "output_type": "display_data"
    },
    {
     "data": {
      "text/plain": [
       "NULL"
      ]
     },
     "metadata": {},
     "output_type": "display_data"
    },
    {
     "data": {
      "text/html": [
       "<ol class=list-inline>\n",
       "\t<li>Koala, marsupial</li>\n",
       "\t<li>Wallaby, marsupial</li>\n",
       "\t<li>Echidna, monotreme</li>\n",
       "\t<li>Dingo, mammal</li>\n",
       "\t<li>Tasmanian devil, marsupial</li>\n",
       "</ol>\n",
       "\n",
       "<details>\n",
       "\t<summary style=display:list-item;cursor:pointer>\n",
       "\t\t<strong>Levels</strong>:\n",
       "\t</summary>\n",
       "\t<ol class=list-inline>\n",
       "\t\t<li>'Dingo, mammal'</li>\n",
       "\t\t<li>'Echidna, monotreme'</li>\n",
       "\t\t<li>'Koala, marsupial'</li>\n",
       "\t\t<li>'Platypus, monotreme'</li>\n",
       "\t\t<li>'Tasmanian devil, marsupial'</li>\n",
       "\t\t<li>'Wallaby, marsupial'</li>\n",
       "\t</ol>\n",
       "</details>"
      ],
      "text/latex": [
       "\\begin{enumerate*}\n",
       "\\item Koala, marsupial\n",
       "\\item Wallaby, marsupial\n",
       "\\item Echidna, monotreme\n",
       "\\item Dingo, mammal\n",
       "\\item Tasmanian devil, marsupial\n",
       "\\end{enumerate*}\n",
       "\n",
       "\\emph{Levels}: \\begin{enumerate*}\n",
       "\\item 'Dingo, mammal'\n",
       "\\item 'Echidna, monotreme'\n",
       "\\item 'Koala, marsupial'\n",
       "\\item 'Platypus, monotreme'\n",
       "\\item 'Tasmanian devil, marsupial'\n",
       "\\item 'Wallaby, marsupial'\n",
       "\\end{enumerate*}\n"
      ],
      "text/markdown": [
       "1. Koala, marsupial\n",
       "2. Wallaby, marsupial\n",
       "3. Echidna, monotreme\n",
       "4. Dingo, mammal\n",
       "5. Tasmanian devil, marsupial\n",
       "\n",
       "\n",
       "\n",
       "**Levels**: 1. 'Dingo, mammal'\n",
       "2. 'Echidna, monotreme'\n",
       "3. 'Koala, marsupial'\n",
       "4. 'Platypus, monotreme'\n",
       "5. 'Tasmanian devil, marsupial'\n",
       "6. 'Wallaby, marsupial'\n",
       "\n",
       "\n"
      ],
      "text/plain": [
       "[1] Koala, marsupial           Wallaby, marsupial        \n",
       "[3] Echidna, monotreme         Dingo, mammal             \n",
       "[5] Tasmanian devil, marsupial\n",
       "6 Levels: Dingo, mammal Echidna, monotreme ... Wallaby, marsupial"
      ]
     },
     "metadata": {},
     "output_type": "display_data"
    }
   ],
   "source": [
    "aa[1,1]\n",
    "aa[5,1]\n",
    "aa[6,1]\n",
    "aa[1,2] # null ude to no second column\n",
    "aa[1:5,1]"
   ]
  },
  {
   "cell_type": "markdown",
   "metadata": {},
   "source": [
    "# Use the unique function to remove duplicates"
   ]
  },
  {
   "cell_type": "code",
   "execution_count": 39,
   "metadata": {},
   "outputs": [
    {
     "data": {
      "text/html": [
       "<table>\n",
       "<thead><tr><th scope=col>Kangaroo..marsupial</th></tr></thead>\n",
       "<tbody>\n",
       "\t<tr><td>Koala, marsupial          </td></tr>\n",
       "\t<tr><td>Wallaby, marsupial        </td></tr>\n",
       "\t<tr><td>Echidna, monotreme        </td></tr>\n",
       "\t<tr><td>Dingo, mammal             </td></tr>\n",
       "\t<tr><td>Tasmanian devil, marsupial</td></tr>\n",
       "\t<tr><td>Platypus, monotreme       </td></tr>\n",
       "</tbody>\n",
       "</table>\n"
      ],
      "text/latex": [
       "\\begin{tabular}{r|l}\n",
       " Kangaroo..marsupial\\\\\n",
       "\\hline\n",
       "\t Koala, marsupial          \\\\\n",
       "\t Wallaby, marsupial        \\\\\n",
       "\t Echidna, monotreme        \\\\\n",
       "\t Dingo, mammal             \\\\\n",
       "\t Tasmanian devil, marsupial\\\\\n",
       "\t Platypus, monotreme       \\\\\n",
       "\\end{tabular}\n"
      ],
      "text/markdown": [
       "\n",
       "| Kangaroo..marsupial |\n",
       "|---|\n",
       "| Koala, marsupial           |\n",
       "| Wallaby, marsupial         |\n",
       "| Echidna, monotreme         |\n",
       "| Dingo, mammal              |\n",
       "| Tasmanian devil, marsupial |\n",
       "| Platypus, monotreme        |\n",
       "\n"
      ],
      "text/plain": [
       "  Kangaroo..marsupial       \n",
       "1 Koala, marsupial          \n",
       "2 Wallaby, marsupial        \n",
       "3 Echidna, monotreme        \n",
       "4 Dingo, mammal             \n",
       "5 Tasmanian devil, marsupial\n",
       "6 Platypus, monotreme       "
      ]
     },
     "metadata": {},
     "output_type": "display_data"
    }
   ],
   "source": [
    "aa <- unique(aa)\n",
    "aa"
   ]
  },
  {
   "cell_type": "markdown",
   "metadata": {},
   "source": [
    "# Descriptive Statistics in Base R & ggplot2"
   ]
  },
  {
   "cell_type": "code",
   "execution_count": 40,
   "metadata": {},
   "outputs": [
    {
     "name": "stderr",
     "output_type": "stream",
     "text": [
      "Registered S3 methods overwritten by 'ggplot2':\n",
      "  method         from \n",
      "  [.quosures     rlang\n",
      "  c.quosures     rlang\n",
      "  print.quosures rlang\n"
     ]
    }
   ],
   "source": [
    "library(ggplot2)"
   ]
  },
  {
   "cell_type": "markdown",
   "metadata": {},
   "source": [
    "# Creating a data frame"
   ]
  },
  {
   "cell_type": "code",
   "execution_count": 41,
   "metadata": {},
   "outputs": [],
   "source": [
    "data_frame <- data.frame(Student_Name=c(\"Bob\", \"Sue\", \"Barack\", \"Ivan\", \"Nancy\"),\n",
    "              January_Calories = c(56000,49000, 50000, 70000, 41000),\n",
    "              February_Calories =c(61000,51000, 51000, 69000,47000),\n",
    "              March_Calories=c(55000,48000, 52000,75000,43000),\n",
    "              Total_Calories=c(172000, 148000,153000,214000,131000))"
   ]
  },
  {
   "cell_type": "code",
   "execution_count": 42,
   "metadata": {},
   "outputs": [
    {
     "data": {
      "text/html": [
       "<table>\n",
       "<thead><tr><th scope=col>Student_Name</th><th scope=col>January_Calories</th><th scope=col>February_Calories</th><th scope=col>March_Calories</th><th scope=col>Total_Calories</th></tr></thead>\n",
       "<tbody>\n",
       "\t<tr><td>Bob   </td><td>56000 </td><td>61000 </td><td>55000 </td><td>172000</td></tr>\n",
       "\t<tr><td>Sue   </td><td>49000 </td><td>51000 </td><td>48000 </td><td>148000</td></tr>\n",
       "\t<tr><td>Barack</td><td>50000 </td><td>51000 </td><td>52000 </td><td>153000</td></tr>\n",
       "\t<tr><td>Ivan  </td><td>70000 </td><td>69000 </td><td>75000 </td><td>214000</td></tr>\n",
       "\t<tr><td>Nancy </td><td>41000 </td><td>47000 </td><td>43000 </td><td>131000</td></tr>\n",
       "</tbody>\n",
       "</table>\n"
      ],
      "text/latex": [
       "\\begin{tabular}{r|lllll}\n",
       " Student\\_Name & January\\_Calories & February\\_Calories & March\\_Calories & Total\\_Calories\\\\\n",
       "\\hline\n",
       "\t Bob    & 56000  & 61000  & 55000  & 172000\\\\\n",
       "\t Sue    & 49000  & 51000  & 48000  & 148000\\\\\n",
       "\t Barack & 50000  & 51000  & 52000  & 153000\\\\\n",
       "\t Ivan   & 70000  & 69000  & 75000  & 214000\\\\\n",
       "\t Nancy  & 41000  & 47000  & 43000  & 131000\\\\\n",
       "\\end{tabular}\n"
      ],
      "text/markdown": [
       "\n",
       "| Student_Name | January_Calories | February_Calories | March_Calories | Total_Calories |\n",
       "|---|---|---|---|---|\n",
       "| Bob    | 56000  | 61000  | 55000  | 172000 |\n",
       "| Sue    | 49000  | 51000  | 48000  | 148000 |\n",
       "| Barack | 50000  | 51000  | 52000  | 153000 |\n",
       "| Ivan   | 70000  | 69000  | 75000  | 214000 |\n",
       "| Nancy  | 41000  | 47000  | 43000  | 131000 |\n",
       "\n"
      ],
      "text/plain": [
       "  Student_Name January_Calories February_Calories March_Calories Total_Calories\n",
       "1 Bob          56000            61000             55000          172000        \n",
       "2 Sue          49000            51000             48000          148000        \n",
       "3 Barack       50000            51000             52000          153000        \n",
       "4 Ivan         70000            69000             75000          214000        \n",
       "5 Nancy        41000            47000             43000          131000        "
      ]
     },
     "metadata": {},
     "output_type": "display_data"
    }
   ],
   "source": [
    "data_frame"
   ]
  },
  {
   "cell_type": "code",
   "execution_count": 43,
   "metadata": {},
   "outputs": [
    {
     "data": {
      "text/html": [
       "<table>\n",
       "<thead><tr><th scope=col>Student_Name</th><th scope=col>January_Calories</th><th scope=col>February_Calories</th><th scope=col>March_Calories</th><th scope=col>Total_Calories</th></tr></thead>\n",
       "<tbody>\n",
       "\t<tr><td>Bob   </td><td>56000 </td><td>61000 </td><td>55000 </td><td>172000</td></tr>\n",
       "\t<tr><td>Sue   </td><td>49000 </td><td>51000 </td><td>48000 </td><td>148000</td></tr>\n",
       "\t<tr><td>Barack</td><td>50000 </td><td>51000 </td><td>52000 </td><td>153000</td></tr>\n",
       "</tbody>\n",
       "</table>\n"
      ],
      "text/latex": [
       "\\begin{tabular}{r|lllll}\n",
       " Student\\_Name & January\\_Calories & February\\_Calories & March\\_Calories & Total\\_Calories\\\\\n",
       "\\hline\n",
       "\t Bob    & 56000  & 61000  & 55000  & 172000\\\\\n",
       "\t Sue    & 49000  & 51000  & 48000  & 148000\\\\\n",
       "\t Barack & 50000  & 51000  & 52000  & 153000\\\\\n",
       "\\end{tabular}\n"
      ],
      "text/markdown": [
       "\n",
       "| Student_Name | January_Calories | February_Calories | March_Calories | Total_Calories |\n",
       "|---|---|---|---|---|\n",
       "| Bob    | 56000  | 61000  | 55000  | 172000 |\n",
       "| Sue    | 49000  | 51000  | 48000  | 148000 |\n",
       "| Barack | 50000  | 51000  | 52000  | 153000 |\n",
       "\n"
      ],
      "text/plain": [
       "  Student_Name January_Calories February_Calories March_Calories Total_Calories\n",
       "1 Bob          56000            61000             55000          172000        \n",
       "2 Sue          49000            51000             48000          148000        \n",
       "3 Barack       50000            51000             52000          153000        "
      ]
     },
     "metadata": {},
     "output_type": "display_data"
    }
   ],
   "source": [
    "head(data_frame,3)"
   ]
  },
  {
   "cell_type": "code",
   "execution_count": 44,
   "metadata": {},
   "outputs": [
    {
     "data": {
      "text/html": [
       "<table>\n",
       "<thead><tr><th></th><th scope=col>Student_Name</th><th scope=col>January_Calories</th><th scope=col>February_Calories</th><th scope=col>March_Calories</th><th scope=col>Total_Calories</th></tr></thead>\n",
       "<tbody>\n",
       "\t<tr><th scope=row>4</th><td>Ivan  </td><td>70000 </td><td>69000 </td><td>75000 </td><td>214000</td></tr>\n",
       "\t<tr><th scope=row>5</th><td>Nancy </td><td>41000 </td><td>47000 </td><td>43000 </td><td>131000</td></tr>\n",
       "</tbody>\n",
       "</table>\n"
      ],
      "text/latex": [
       "\\begin{tabular}{r|lllll}\n",
       "  & Student\\_Name & January\\_Calories & February\\_Calories & March\\_Calories & Total\\_Calories\\\\\n",
       "\\hline\n",
       "\t4 & Ivan   & 70000  & 69000  & 75000  & 214000\\\\\n",
       "\t5 & Nancy  & 41000  & 47000  & 43000  & 131000\\\\\n",
       "\\end{tabular}\n"
      ],
      "text/markdown": [
       "\n",
       "| <!--/--> | Student_Name | January_Calories | February_Calories | March_Calories | Total_Calories |\n",
       "|---|---|---|---|---|---|\n",
       "| 4 | Ivan   | 70000  | 69000  | 75000  | 214000 |\n",
       "| 5 | Nancy  | 41000  | 47000  | 43000  | 131000 |\n",
       "\n"
      ],
      "text/plain": [
       "  Student_Name January_Calories February_Calories March_Calories Total_Calories\n",
       "4 Ivan         70000            69000             75000          214000        \n",
       "5 Nancy        41000            47000             43000          131000        "
      ]
     },
     "metadata": {},
     "output_type": "display_data"
    }
   ],
   "source": [
    "tail(data_frame,2)"
   ]
  },
  {
   "cell_type": "code",
   "execution_count": 45,
   "metadata": {},
   "outputs": [
    {
     "name": "stdout",
     "output_type": "stream",
     "text": [
      "'data.frame':\t5 obs. of  5 variables:\n",
      " $ Student_Name     : Factor w/ 5 levels \"Barack\",\"Bob\",..: 2 5 1 3 4\n",
      " $ January_Calories : num  56000 49000 50000 70000 41000\n",
      " $ February_Calories: num  61000 51000 51000 69000 47000\n",
      " $ March_Calories   : num  55000 48000 52000 75000 43000\n",
      " $ Total_Calories   : num  172000 148000 153000 214000 131000\n"
     ]
    }
   ],
   "source": [
    "str(data_frame)"
   ]
  },
  {
   "cell_type": "code",
   "execution_count": 46,
   "metadata": {},
   "outputs": [
    {
     "data": {
      "text/plain": [
       " Student_Name January_Calories February_Calories March_Calories \n",
       " Barack:1     Min.   :41000    Min.   :47000     Min.   :43000  \n",
       " Bob   :1     1st Qu.:49000    1st Qu.:51000     1st Qu.:48000  \n",
       " Ivan  :1     Median :50000    Median :51000     Median :52000  \n",
       " Nancy :1     Mean   :53200    Mean   :55800     Mean   :54600  \n",
       " Sue   :1     3rd Qu.:56000    3rd Qu.:61000     3rd Qu.:55000  \n",
       "              Max.   :70000    Max.   :69000     Max.   :75000  \n",
       " Total_Calories  \n",
       " Min.   :131000  \n",
       " 1st Qu.:148000  \n",
       " Median :153000  \n",
       " Mean   :163600  \n",
       " 3rd Qu.:172000  \n",
       " Max.   :214000  "
      ]
     },
     "metadata": {},
     "output_type": "display_data"
    }
   ],
   "source": [
    "summary(data_frame)"
   ]
  },
  {
   "cell_type": "code",
   "execution_count": 48,
   "metadata": {},
   "outputs": [
    {
     "data": {
      "text/html": [
       "52000"
      ],
      "text/latex": [
       "52000"
      ],
      "text/markdown": [
       "52000"
      ],
      "text/plain": [
       "[1] 52000"
      ]
     },
     "metadata": {},
     "output_type": "display_data"
    }
   ],
   "source": [
    "median(data_frame$March_Calories)"
   ]
  },
  {
   "cell_type": "markdown",
   "metadata": {},
   "source": [
    "# GGplot2 graph"
   ]
  },
  {
   "cell_type": "code",
   "execution_count": 49,
   "metadata": {},
   "outputs": [
    {
     "data": {
      "image/png": "[encoded data removed]",
      "text/plain": [
       "plot without title"
      ]
     },
     "metadata": {},
     "output_type": "display_data"
    }
   ],
   "source": [
    "ggplot(data=data_frame, \n",
    "       aes(x=Student_Name, y=Total_Calories)) +\n",
    "  geom_bar(stat = \"identity\")"
   ]
  },
  {
   "cell_type": "code",
   "execution_count": 50,
   "metadata": {},
   "outputs": [
    {
     "data": {
      "text/html": [
       "<table>\n",
       "<thead><tr><th scope=col>Student_Name</th><th scope=col>January_Calories</th></tr></thead>\n",
       "<tbody>\n",
       "\t<tr><td>Bob   </td><td>56000 </td></tr>\n",
       "\t<tr><td>Sue   </td><td>49000 </td></tr>\n",
       "\t<tr><td>Barack</td><td>50000 </td></tr>\n",
       "\t<tr><td>Ivan  </td><td>70000 </td></tr>\n",
       "\t<tr><td>Nancy </td><td>41000 </td></tr>\n",
       "</tbody>\n",
       "</table>\n"
      ],
      "text/latex": [
       "\\begin{tabular}{r|ll}\n",
       " Student\\_Name & January\\_Calories\\\\\n",
       "\\hline\n",
       "\t Bob    & 56000 \\\\\n",
       "\t Sue    & 49000 \\\\\n",
       "\t Barack & 50000 \\\\\n",
       "\t Ivan   & 70000 \\\\\n",
       "\t Nancy  & 41000 \\\\\n",
       "\\end{tabular}\n"
      ],
      "text/markdown": [
       "\n",
       "| Student_Name | January_Calories |\n",
       "|---|---|\n",
       "| Bob    | 56000  |\n",
       "| Sue    | 49000  |\n",
       "| Barack | 50000  |\n",
       "| Ivan   | 70000  |\n",
       "| Nancy  | 41000  |\n",
       "\n"
      ],
      "text/plain": [
       "  Student_Name January_Calories\n",
       "1 Bob          56000           \n",
       "2 Sue          49000           \n",
       "3 Barack       50000           \n",
       "4 Ivan         70000           \n",
       "5 Nancy        41000           "
      ]
     },
     "metadata": {},
     "output_type": "display_data"
    }
   ],
   "source": [
    "data_frame[1:2] "
   ]
  },
  {
   "cell_type": "code",
   "execution_count": 51,
   "metadata": {},
   "outputs": [
    {
     "data": {
      "text/html": [
       "<table>\n",
       "<thead><tr><th scope=col>Student_Name</th><th scope=col>January_Calories</th><th scope=col>Total_Calories</th></tr></thead>\n",
       "<tbody>\n",
       "\t<tr><td>Bob   </td><td>56000 </td><td>172000</td></tr>\n",
       "\t<tr><td>Sue   </td><td>49000 </td><td>148000</td></tr>\n",
       "\t<tr><td>Barack</td><td>50000 </td><td>153000</td></tr>\n",
       "\t<tr><td>Ivan  </td><td>70000 </td><td>214000</td></tr>\n",
       "\t<tr><td>Nancy </td><td>41000 </td><td>131000</td></tr>\n",
       "</tbody>\n",
       "</table>\n"
      ],
      "text/latex": [
       "\\begin{tabular}{r|lll}\n",
       " Student\\_Name & January\\_Calories & Total\\_Calories\\\\\n",
       "\\hline\n",
       "\t Bob    & 56000  & 172000\\\\\n",
       "\t Sue    & 49000  & 148000\\\\\n",
       "\t Barack & 50000  & 153000\\\\\n",
       "\t Ivan   & 70000  & 214000\\\\\n",
       "\t Nancy  & 41000  & 131000\\\\\n",
       "\\end{tabular}\n"
      ],
      "text/markdown": [
       "\n",
       "| Student_Name | January_Calories | Total_Calories |\n",
       "|---|---|---|\n",
       "| Bob    | 56000  | 172000 |\n",
       "| Sue    | 49000  | 148000 |\n",
       "| Barack | 50000  | 153000 |\n",
       "| Ivan   | 70000  | 214000 |\n",
       "| Nancy  | 41000  | 131000 |\n",
       "\n"
      ],
      "text/plain": [
       "  Student_Name January_Calories Total_Calories\n",
       "1 Bob          56000            172000        \n",
       "2 Sue          49000            148000        \n",
       "3 Barack       50000            153000        \n",
       "4 Ivan         70000            214000        \n",
       "5 Nancy        41000            131000        "
      ]
     },
     "metadata": {},
     "output_type": "display_data"
    }
   ],
   "source": [
    "data_frame[c(-3,-4)]"
   ]
  },
  {
   "cell_type": "code",
   "execution_count": 53,
   "metadata": {},
   "outputs": [
    {
     "data": {
      "text/html": [
       "<table>\n",
       "<thead><tr><th scope=col>Student_Name</th><th scope=col>January_Calories</th></tr></thead>\n",
       "<tbody>\n",
       "\t<tr><td>Bob   </td><td>56000 </td></tr>\n",
       "\t<tr><td>Sue   </td><td>49000 </td></tr>\n",
       "\t<tr><td>Barack</td><td>50000 </td></tr>\n",
       "\t<tr><td>Ivan  </td><td>70000 </td></tr>\n",
       "\t<tr><td>Nancy </td><td>41000 </td></tr>\n",
       "</tbody>\n",
       "</table>\n"
      ],
      "text/latex": [
       "\\begin{tabular}{r|ll}\n",
       " Student\\_Name & January\\_Calories\\\\\n",
       "\\hline\n",
       "\t Bob    & 56000 \\\\\n",
       "\t Sue    & 49000 \\\\\n",
       "\t Barack & 50000 \\\\\n",
       "\t Ivan   & 70000 \\\\\n",
       "\t Nancy  & 41000 \\\\\n",
       "\\end{tabular}\n"
      ],
      "text/markdown": [
       "\n",
       "| Student_Name | January_Calories |\n",
       "|---|---|\n",
       "| Bob    | 56000  |\n",
       "| Sue    | 49000  |\n",
       "| Barack | 50000  |\n",
       "| Ivan   | 70000  |\n",
       "| Nancy  | 41000  |\n",
       "\n"
      ],
      "text/plain": [
       "  Student_Name January_Calories\n",
       "1 Bob          56000           \n",
       "2 Sue          49000           \n",
       "3 Barack       50000           \n",
       "4 Ivan         70000           \n",
       "5 Nancy        41000           "
      ]
     },
     "metadata": {},
     "output_type": "display_data"
    }
   ],
   "source": [
    "data_jan <- data_frame[1:2]\n",
    "data_jan"
   ]
  },
  {
   "cell_type": "code",
   "execution_count": 54,
   "metadata": {
    "scrolled": true
   },
   "outputs": [
    {
     "data": {
      "image/png": "[encoded data removed]",
      "text/plain": [
       "plot without title"
      ]
     },
     "metadata": {},
     "output_type": "display_data"
    }
   ],
   "source": [
    "ggplot(data=data_jan, aes(x=Student_Name, y=January_Calories)) + geom_bar(stat=\"identity\")"
   ]
  },
  {
   "cell_type": "markdown",
   "metadata": {},
   "source": [
    "# YOUR TURN\n",
    "\n",
    "use the read.csv method to read in the CSV file and store in the variable df. "
   ]
  },
  {
   "cell_type": "code",
   "execution_count": 55,
   "metadata": {},
   "outputs": [],
   "source": [
    "df <- read.csv(\"DATA/Influence of alcohol consumption on anxiety levels.csv\", sep=\",\")"
   ]
  },
  {
   "cell_type": "code",
   "execution_count": 56,
   "metadata": {},
   "outputs": [
    {
     "data": {
      "text/html": [
       "<table>\n",
       "<thead><tr><th scope=col>Gender</th><th scope=col>Average.Number.of.Alcoholic.units.consumed.per.week</th><th scope=col>General.Anxiety.Level..0.never.anxious.to.10.constant.anxiety.</th></tr></thead>\n",
       "<tbody>\n",
       "\t<tr><td>F </td><td>20</td><td>3 </td></tr>\n",
       "\t<tr><td>F </td><td> 0</td><td>0 </td></tr>\n",
       "\t<tr><td>M </td><td>32</td><td>7 </td></tr>\n",
       "\t<tr><td>M </td><td>10</td><td>2 </td></tr>\n",
       "\t<tr><td>M </td><td> 5</td><td>1 </td></tr>\n",
       "\t<tr><td>F </td><td>40</td><td>7 </td></tr>\n",
       "\t<tr><td>F </td><td>12</td><td>2 </td></tr>\n",
       "\t<tr><td>F </td><td>25</td><td>4 </td></tr>\n",
       "\t<tr><td>F </td><td>20</td><td>3 </td></tr>\n",
       "\t<tr><td>M </td><td> 0</td><td>0 </td></tr>\n",
       "\t<tr><td>M </td><td>10</td><td>2 </td></tr>\n",
       "\t<tr><td>F </td><td>20</td><td>4 </td></tr>\n",
       "\t<tr><td>M </td><td>50</td><td>8 </td></tr>\n",
       "\t<tr><td>F </td><td>12</td><td>2 </td></tr>\n",
       "\t<tr><td>F </td><td>16</td><td>3 </td></tr>\n",
       "\t<tr><td>F </td><td>24</td><td>3 </td></tr>\n",
       "\t<tr><td>M </td><td> 5</td><td>0 </td></tr>\n",
       "\t<tr><td>F </td><td>30</td><td>4 </td></tr>\n",
       "\t<tr><td>M </td><td>60</td><td>8 </td></tr>\n",
       "\t<tr><td>M </td><td>25</td><td>4 </td></tr>\n",
       "\t<tr><td>M </td><td>22</td><td>3 </td></tr>\n",
       "\t<tr><td>F </td><td> 4</td><td>0 </td></tr>\n",
       "\t<tr><td>M </td><td> 8</td><td>1 </td></tr>\n",
       "\t<tr><td>F </td><td>12</td><td>1 </td></tr>\n",
       "</tbody>\n",
       "</table>\n"
      ],
      "text/latex": [
       "\\begin{tabular}{r|lll}\n",
       " Gender & Average.Number.of.Alcoholic.units.consumed.per.week & General.Anxiety.Level..0.never.anxious.to.10.constant.anxiety.\\\\\n",
       "\\hline\n",
       "\t F  & 20 & 3 \\\\\n",
       "\t F  &  0 & 0 \\\\\n",
       "\t M  & 32 & 7 \\\\\n",
       "\t M  & 10 & 2 \\\\\n",
       "\t M  &  5 & 1 \\\\\n",
       "\t F  & 40 & 7 \\\\\n",
       "\t F  & 12 & 2 \\\\\n",
       "\t F  & 25 & 4 \\\\\n",
       "\t F  & 20 & 3 \\\\\n",
       "\t M  &  0 & 0 \\\\\n",
       "\t M  & 10 & 2 \\\\\n",
       "\t F  & 20 & 4 \\\\\n",
       "\t M  & 50 & 8 \\\\\n",
       "\t F  & 12 & 2 \\\\\n",
       "\t F  & 16 & 3 \\\\\n",
       "\t F  & 24 & 3 \\\\\n",
       "\t M  &  5 & 0 \\\\\n",
       "\t F  & 30 & 4 \\\\\n",
       "\t M  & 60 & 8 \\\\\n",
       "\t M  & 25 & 4 \\\\\n",
       "\t M  & 22 & 3 \\\\\n",
       "\t F  &  4 & 0 \\\\\n",
       "\t M  &  8 & 1 \\\\\n",
       "\t F  & 12 & 1 \\\\\n",
       "\\end{tabular}\n"
      ],
      "text/markdown": [
       "\n",
       "| Gender | Average.Number.of.Alcoholic.units.consumed.per.week | General.Anxiety.Level..0.never.anxious.to.10.constant.anxiety. |\n",
       "|---|---|---|\n",
       "| F  | 20 | 3  |\n",
       "| F  |  0 | 0  |\n",
       "| M  | 32 | 7  |\n",
       "| M  | 10 | 2  |\n",
       "| M  |  5 | 1  |\n",
       "| F  | 40 | 7  |\n",
       "| F  | 12 | 2  |\n",
       "| F  | 25 | 4  |\n",
       "| F  | 20 | 3  |\n",
       "| M  |  0 | 0  |\n",
       "| M  | 10 | 2  |\n",
       "| F  | 20 | 4  |\n",
       "| M  | 50 | 8  |\n",
       "| F  | 12 | 2  |\n",
       "| F  | 16 | 3  |\n",
       "| F  | 24 | 3  |\n",
       "| M  |  5 | 0  |\n",
       "| F  | 30 | 4  |\n",
       "| M  | 60 | 8  |\n",
       "| M  | 25 | 4  |\n",
       "| M  | 22 | 3  |\n",
       "| F  |  4 | 0  |\n",
       "| M  |  8 | 1  |\n",
       "| F  | 12 | 1  |\n",
       "\n"
      ],
      "text/plain": [
       "   Gender Average.Number.of.Alcoholic.units.consumed.per.week\n",
       "1  F      20                                                 \n",
       "2  F       0                                                 \n",
       "3  M      32                                                 \n",
       "4  M      10                                                 \n",
       "5  M       5                                                 \n",
       "6  F      40                                                 \n",
       "7  F      12                                                 \n",
       "8  F      25                                                 \n",
       "9  F      20                                                 \n",
       "10 M       0                                                 \n",
       "11 M      10                                                 \n",
       "12 F      20                                                 \n",
       "13 M      50                                                 \n",
       "14 F      12                                                 \n",
       "15 F      16                                                 \n",
       "16 F      24                                                 \n",
       "17 M       5                                                 \n",
       "18 F      30                                                 \n",
       "19 M      60                                                 \n",
       "20 M      25                                                 \n",
       "21 M      22                                                 \n",
       "22 F       4                                                 \n",
       "23 M       8                                                 \n",
       "24 F      12                                                 \n",
       "   General.Anxiety.Level..0.never.anxious.to.10.constant.anxiety.\n",
       "1  3                                                             \n",
       "2  0                                                             \n",
       "3  7                                                             \n",
       "4  2                                                             \n",
       "5  1                                                             \n",
       "6  7                                                             \n",
       "7  2                                                             \n",
       "8  4                                                             \n",
       "9  3                                                             \n",
       "10 0                                                             \n",
       "11 2                                                             \n",
       "12 4                                                             \n",
       "13 8                                                             \n",
       "14 2                                                             \n",
       "15 3                                                             \n",
       "16 3                                                             \n",
       "17 0                                                             \n",
       "18 4                                                             \n",
       "19 8                                                             \n",
       "20 4                                                             \n",
       "21 3                                                             \n",
       "22 0                                                             \n",
       "23 1                                                             \n",
       "24 1                                                             "
      ]
     },
     "metadata": {},
     "output_type": "display_data"
    }
   ],
   "source": [
    "df"
   ]
  },
  {
   "cell_type": "markdown",
   "metadata": {},
   "source": [
    "# TASK: Use head method to show top 10 of dataframe"
   ]
  },
  {
   "cell_type": "code",
   "execution_count": null,
   "metadata": {},
   "outputs": [],
   "source": []
  },
  {
   "cell_type": "markdown",
   "metadata": {},
   "source": [
    "# TASK: use the STR (structure) method to get info on datatypes"
   ]
  },
  {
   "cell_type": "code",
   "execution_count": null,
   "metadata": {},
   "outputs": [],
   "source": []
  },
  {
   "cell_type": "markdown",
   "metadata": {},
   "source": [
    "# TASK: Use tail method to show last 10 rows of the dataframe\n"
   ]
  },
  {
   "cell_type": "code",
   "execution_count": null,
   "metadata": {},
   "outputs": [],
   "source": []
  },
  {
   "cell_type": "markdown",
   "metadata": {},
   "source": [
    "# TASK: Get the number of rows in the data frame \n"
   ]
  },
  {
   "cell_type": "code",
   "execution_count": null,
   "metadata": {},
   "outputs": [],
   "source": []
  },
  {
   "cell_type": "markdown",
   "metadata": {},
   "source": [
    "# TASK: Get some basic descriptive statistics using the summary method \n"
   ]
  },
  {
   "cell_type": "code",
   "execution_count": null,
   "metadata": {},
   "outputs": [],
   "source": []
  },
  {
   "cell_type": "markdown",
   "metadata": {},
   "source": [
    "# TASK: get the median of average number of alcoholic units consumed per week\n"
   ]
  },
  {
   "cell_type": "code",
   "execution_count": null,
   "metadata": {},
   "outputs": [],
   "source": []
  },
  {
   "cell_type": "markdown",
   "metadata": {},
   "source": [
    "# TASK: plot a line graph\n"
   ]
  },
  {
   "cell_type": "code",
   "execution_count": null,
   "metadata": {},
   "outputs": [],
   "source": []
  },
  {
   "cell_type": "markdown",
   "metadata": {},
   "source": [
    "# Histrogram Example\n"
   ]
  },
  {
   "cell_type": "code",
   "execution_count": 63,
   "metadata": {
    "scrolled": true
   },
   "outputs": [
    {
     "data": {
      "image/png": "[encoded data removed]",
      "text/plain": [
       "plot without title"
      ]
     },
     "metadata": {},
     "output_type": "display_data"
    }
   ],
   "source": [
    "ggplot(data = df, aes(x=df$Average.Number.of.Alcoholic.units.consumed.per.week))  +\n",
    "  geom_histogram(bins=25)"
   ]
  },
  {
   "cell_type": "code",
   "execution_count": null,
   "metadata": {},
   "outputs": [],
   "source": []
  }
 ],
 "metadata": {
  "kernelspec": {
   "display_name": "R",
   "language": "R",
   "name": "ir"
  },
  "language_info": {
   "codemirror_mode": "r",
   "file_extension": ".r",
   "mimetype": "text/x-r-source",
   "name": "R",
   "pygments_lexer": "r",
   "version": "3.6.1"
  }
 },
 "nbformat": 4,
 "nbformat_minor": 4
}
